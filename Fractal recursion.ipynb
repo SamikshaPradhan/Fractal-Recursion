{
 "cells": [
  {
   "cell_type": "code",
   "execution_count": 4,
   "metadata": {},
   "outputs": [],
   "source": [
    "def drawTriangle(t , p1 , p2 , p3 ):\n",
    "    t.up()\n",
    "    t.goto(p1)\n",
    "    t.down()\n",
    "    t.goto(p2)\n",
    "    t.goto(p3)\n",
    "    t.goto(p1)\n",
    "    \n",
    "def midPoint(p1,p2):\n",
    "    return((p1[0] + p2[0])/2 , (p1[1] + p2[1])/2)\n",
    "\n",
    "def sierpinski(t , p1 , p2 , p3 , depth) :\n",
    "    if depth > 0:\n",
    "        sierpinski(t , p1 , midPoint(p1,p2) , midPoint(p1,p3) , depth - 1)\n",
    "        sierpinski(t , p2 , midPoint(p2,p3) , midPoint(p2,p1) , depth - 1)\n",
    "        sierpinski(t , p3 , midPoint(p3,p1) , midPoint(p3,p2) , depth - 1)\n",
    "    else :\n",
    "        drawTriangle(t , p1 , p2 , p3)\n",
    "\n",
    "if __name__ == '__main__':\n",
    "    import turtle\n",
    "    t = turtle.Turtle()\n",
    "    t.color('darkorange')\n",
    "    sierpinski(t , [-225 , -250] , [225 , -255] , [0 ,225] , 4)\n",
    "    t.hideturtle()\n"
   ]
  }
 ],
 "metadata": {
  "kernelspec": {
   "display_name": "Python 3",
   "language": "python",
   "name": "python3"
  },
  "language_info": {
   "codemirror_mode": {
    "name": "ipython",
    "version": 3
   },
   "file_extension": ".py",
   "mimetype": "text/x-python",
   "name": "python",
   "nbconvert_exporter": "python",
   "pygments_lexer": "ipython3",
   "version": "3.7.4"
  }
 },
 "nbformat": 4,
 "nbformat_minor": 2
}
